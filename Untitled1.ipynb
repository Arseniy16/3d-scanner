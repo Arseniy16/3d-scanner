{
 "cells": [
  {
   "cell_type": "code",
   "execution_count": 170,
   "metadata": {},
   "outputs": [],
   "source": [
    "import serial\n",
    "import pyaudio\n",
    "import numpy as np\n",
    "import wave\n",
    "import scipy.signal as signal\n",
    "import warnings\n",
    "warnings.filterwarnings('ignore')\n",
    "import sys"
   ]
  },
  {
   "cell_type": "code",
   "execution_count": 171,
   "metadata": {},
   "outputs": [],
   "source": [
    "def serial_init(speed):\n",
    "    dev = serial.Serial(\n",
    "        # Здесь указывается устройство, с которым будет производится работа\n",
    "        # /dev/ttyUSBx - для Linux\n",
    "        # /dev/tty.SLAB_USBtoUART - для MacOS\n",
    "        port='/dev/ttyUSB0', \n",
    "        # Скорость передачи\n",
    "        baudrate=speed,\n",
    "        # Использование бита четности\n",
    "        parity=serial.PARITY_NONE,\n",
    "        # Длина стоп-бита\n",
    "        stopbits=serial.STOPBITS_ONE,\n",
    "        # Длина пакета\n",
    "        bytesize=serial.EIGHTBITS,\n",
    "        # Максимальное время ожидания устройства\n",
    "        timeout=0.1\n",
    "    )\n",
    "    return dev\n",
    "\n",
    "def serial_recv(dev):\n",
    "    # Для простоты макс. кол-во символов для чтения - 255. Время ожидания - 0.1\n",
    "    # decode необходим для конвертирования набора полученных байтов в строку\n",
    "    string = dev.read(255).decode()\n",
    "    return string\n",
    "\n",
    "def serial_send(dev, string):\n",
    "    # encode конвертирует строку в кодировке utf-8 в набор байтов \n",
    "    dev.write(string.encode('utf-8'))\n"
   ]
  },
  {
   "cell_type": "code",
   "execution_count": 235,
   "metadata": {},
   "outputs": [
    {
     "name": "stdout",
     "output_type": "stream",
     "text": [
      "\n",
      "\n"
     ]
    }
   ],
   "source": [
    "dev = serial_init(115200)\n",
    "#serial_send(dev, '6')\n",
    "state = serial_recv(dev)\n",
    "new = serial_recv(dev)\n",
    "print(state)\n",
    "print(new)\n",
    "#serial_send(dev, '2024')\n",
    "#serial_send(dev, '123')\n",
    "\n",
    "#serial_send(dev, '0934')\n",
    "#print(state)"
   ]
  },
  {
   "cell_type": "code",
   "execution_count": 301,
   "metadata": {},
   "outputs": [
    {
     "name": "stdout",
     "output_type": "stream",
     "text": [
      "635|105|12323|\n",
      "['635', '105', '12323']\n",
      "[635, 105, 12323]\n"
     ]
    },
    {
     "data": {
      "text/plain": [
       "635"
      ]
     },
     "execution_count": 301,
     "metadata": {},
     "output_type": "execute_result"
    }
   ],
   "source": [
    "dev = serial_init(115200)\n",
    "state = 0\n",
    "#new = serial_recv(dev)\n",
    "while (not state ):\n",
    "    state = serial_recv(dev)\n",
    "\n",
    "print (state)\n",
    "\n",
    "string = state.split('|')\n",
    "string.pop(-1)\n",
    "\n",
    "print (string)\n",
    "\n",
    "value = [int(x) for x in string]\n",
    "print (value)\n"
   ]
  },
  {
   "cell_type": "code",
   "execution_count": 295,
   "metadata": {},
   "outputs": [
    {
     "name": "stdout",
     "output_type": "stream",
     "text": [
      "['54343', '84', '934']\n",
      "[54343, 84, 934]\n",
      "84\n"
     ]
    },
    {
     "ename": "NameError",
     "evalue": "name 'strtoint' is not defined",
     "output_type": "error",
     "traceback": [
      "\u001b[0;31m---------------------------------------------------------------------------\u001b[0m",
      "\u001b[0;31mNameError\u001b[0m                                 Traceback (most recent call last)",
      "\u001b[0;32m<ipython-input-295-ea955a7c2637>\u001b[0m in \u001b[0;36m<module>\u001b[0;34m\u001b[0m\n\u001b[1;32m     10\u001b[0m \u001b[0mprint\u001b[0m \u001b[0;34m(\u001b[0m\u001b[0mx\u001b[0m\u001b[0;34m[\u001b[0m\u001b[0;36m0\u001b[0m\u001b[0;34m]\u001b[0m\u001b[0;34m)\u001b[0m\u001b[0;34m\u001b[0m\u001b[0;34m\u001b[0m\u001b[0m\n\u001b[1;32m     11\u001b[0m \u001b[0mtype\u001b[0m \u001b[0;34m(\u001b[0m\u001b[0mx\u001b[0m\u001b[0;34m[\u001b[0m\u001b[0;36m0\u001b[0m\u001b[0;34m]\u001b[0m\u001b[0;34m)\u001b[0m\u001b[0;34m\u001b[0m\u001b[0;34m\u001b[0m\u001b[0m\n\u001b[0;32m---> 12\u001b[0;31m \u001b[0mstrtoint\u001b[0m\u001b[0;34m\u001b[0m\u001b[0;34m\u001b[0m\u001b[0m\n\u001b[0m\u001b[1;32m     13\u001b[0m \u001b[0;31m#type (x)\u001b[0m\u001b[0;34m\u001b[0m\u001b[0;34m\u001b[0m\u001b[0;34m\u001b[0m\u001b[0m\n",
      "\u001b[0;31mNameError\u001b[0m: name 'strtoint' is not defined"
     ]
    }
   ],
   "source": [
    "a = \"54343|84|934\"\n",
    "x = a.split('|')\n",
    "print (x)\n",
    "\n",
    "new = [int(i) for i in x]\n",
    "\n",
    "print (new)\n",
    "\n",
    "x.pop(0)\n",
    "print (x[0])\n",
    "type (x[0])\n",
    "strtoint\n",
    "#type (x)"
   ]
  },
  {
   "cell_type": "code",
   "execution_count": 280,
   "metadata": {},
   "outputs": [
    {
     "name": "stdout",
     "output_type": "stream",
     "text": [
      "335\n"
     ]
    },
    {
     "data": {
      "text/plain": [
       "int"
      ]
     },
     "execution_count": 280,
     "metadata": {},
     "output_type": "execute_result"
    }
   ],
   "source": [
    "str = \"335\"\n",
    "v = int(str)\n",
    "print (v)\n",
    "type (v)"
   ]
  },
  {
   "cell_type": "code",
   "execution_count": null,
   "metadata": {},
   "outputs": [],
   "source": []
  }
 ],
 "metadata": {
  "kernelspec": {
   "display_name": "Python 3",
   "language": "python",
   "name": "python3"
  },
  "language_info": {
   "codemirror_mode": {
    "name": "ipython",
    "version": 3
   },
   "file_extension": ".py",
   "mimetype": "text/x-python",
   "name": "python",
   "nbconvert_exporter": "python",
   "pygments_lexer": "ipython3",
   "version": "3.8.5"
  }
 },
 "nbformat": 4,
 "nbformat_minor": 4
}
